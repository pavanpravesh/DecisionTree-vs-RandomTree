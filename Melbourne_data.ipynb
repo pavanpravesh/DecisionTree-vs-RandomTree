{
 "cells": [
  {
   "cell_type": "code",
   "execution_count": 21,
   "metadata": {},
   "outputs": [
    {
     "name": "stdout",
     "output_type": "stream",
     "text": [
      "Max leaf nodes: 5  \t\t Mean Absolute Error:  387527\n",
      "Max leaf nodes: 50  \t\t Mean Absolute Error:  373909\n",
      "Max leaf nodes: 500  \t\t Mean Absolute Error:  414890\n",
      "Max leaf nodes: 5000  \t\t Mean Absolute Error:  457506\n",
      "423075.26110074396\n"
     ]
    }
   ],
   "source": [
    "import pandas as pd\n",
    "mel_file_path = ('E:\\Machine Learning\\melbourne-housing-snapshot\\melb_data.csv')\n",
    "mel_data = pd.read_csv(mel_file_path)\n",
    "filter_mel = mel_data.dropna(axis=0)\n",
    "mel_features = ['Rooms','Landsize']\n",
    "filter_mel.columns\n",
    "y = filter_mel.Price\n",
    "X = filter_mel[mel_features]\n",
    "\n",
    "from sklearn.tree import DecisionTreeRegressor\n",
    "mel_model1 = DecisionTreeRegressor(random_state=1)\n",
    "mel_model1.fit(X,y)\n",
    "\n",
    "from sklearn.metrics import mean_absolute_error\n",
    "predicted_home_prices = mel_model1.predict(X)\n",
    "mean_absolute_error(y, predicted_home_prices)\n",
    "\n",
    "from sklearn.model_selection import train_test_split\n",
    "train_X,val_X,train_y,val_y = train_test_split(X,y,random_state=1)\n",
    "mel_model1 = DecisionTreeRegressor()\n",
    "mel_model1.fit(train_X,train_y)\n",
    "val_predict = mel_model1.predict(val_X)\n",
    "\n",
    "def get_mae(max_leaf_nodes, train_X, val_X, train_y, val_y):\n",
    "    mel_model1 = DecisionTreeRegressor(max_leaf_nodes=max_leaf_nodes, random_state=0)\n",
    "    mel_model1.fit(train_X, train_y)\n",
    "    preds_val = mel_model1.predict(val_X)\n",
    "    mae = mean_absolute_error(val_y, preds_val)\n",
    "    return(mae)\n",
    "\n",
    "for max_leaf_nodes in [5 ,50 ,500 ,5000 ]:\n",
    "    my_mae = get_mae(max_leaf_nodes, train_X, val_X, train_y, val_y)\n",
    "    print(\"Max leaf nodes: %d  \\t\\t Mean Absolute Error:  %d\" %(max_leaf_nodes, my_mae))\n",
    "    \n",
    "    \n",
    "from sklearn.ensemble import RandomForestRegressor\n",
    "from sklearn.metrics import mean_absolute_error\n",
    "\n",
    "forest_model = RandomForestRegressor(random_state=1)\n",
    "forest_model.fit(train_X,train_y)\n",
    "melb_preds = forest_model.predict(val_X)\n",
    "val_mae = mean_absolute_error(melb_preds, val_y)\n",
    "print(val_mae)\n",
    "\n",
    "\n"
   ]
  },
  {
   "cell_type": "code",
   "execution_count": null,
   "metadata": {},
   "outputs": [],
   "source": []
  }
 ],
 "metadata": {
  "kernelspec": {
   "display_name": "Python 3",
   "language": "python",
   "name": "python3"
  },
  "language_info": {
   "codemirror_mode": {
    "name": "ipython",
    "version": 3
   },
   "file_extension": ".py",
   "mimetype": "text/x-python",
   "name": "python",
   "nbconvert_exporter": "python",
   "pygments_lexer": "ipython3",
   "version": "3.6.5"
  }
 },
 "nbformat": 4,
 "nbformat_minor": 2
}
